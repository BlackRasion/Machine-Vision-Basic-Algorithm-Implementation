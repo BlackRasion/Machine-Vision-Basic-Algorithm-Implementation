{
 "cells": [
  {
   "cell_type": "code",
   "execution_count": 7,
   "metadata": {},
   "outputs": [],
   "source": [
    "# 导入必要的库\n",
    "import cv2 as cv\n",
    "import numpy as np\n",
    "import ipywidgets as widgets\n",
    "from IPython.display import display, clear_output\n",
    "import matplotlib.pyplot as plt\n",
    "\n",
    "from grayscale import *\n",
    "from binarization import *\n",
    "from sharpening import *\n",
    "from filter import *\n",
    "from geometric_transform import *\n",
    "from region_growing import *\n",
    "from dft import *\n",
    "from morphology_process import *\n",
    "from geometry import *\n",
    "from contour import *\n",
    "from edge_detect import *"
   ]
  },
  {
   "cell_type": "code",
   "execution_count": 8,
   "metadata": {},
   "outputs": [],
   "source": [
    "# 图像显示函数\n",
    "def show_image(image, title='Image'):\n",
    "    plt.imshow(cv.cvtColor(image, cv.COLOR_BGR2RGB))\n",
    "    plt.title(title)\n",
    "    plt.axis('off')\n",
    "    plt.show()\n",
    "\n",
    "# 图像处理函数\n",
    "def process_image(image, method, sub_option, **kwargs):\n",
    "    gray_image = grayscale(image)\n",
    "    processed_image = gray_image.copy()\n",
    "    print(method, sub_option)\n",
    "    \n",
    "    method_map = {\n",
    "        '灰度化': {\n",
    "            '灰度化': lambda: gray_image,\n",
    "            '灰度直方图修正': lambda: histogram_equalization(gray_image),\n",
    "            '线性变换': lambda: linear_transformation(gray_image),\n",
    "            '对数变换': lambda: log_transformation(gray_image),\n",
    "            '指数变换': lambda: exponential_transformation(gray_image)\n",
    "        },\n",
    "        '二值化': {\n",
    "                '固定阈值分割': lambda: fixed_threshold(gray_image, kwargs.get('threshold')),\n",
    "                '自适应均值阈值分割': lambda: adaptive_mean_threshold(gray_image),\n",
    "                '自适应高斯阈值分割': lambda: adaptive_gaussian_threshold(gray_image),\n",
    "                'Otsu自动计算阈值分割': lambda: otsu_threshold(gray_image)\n",
    "            },\n",
    "        '滤波': {\n",
    "            '均值滤波': lambda: apply_mean_filter(gray_image, kwargs.get('kernel_size', 5)),\n",
    "            '高斯滤波': lambda: apply_gaussian_filter(gray_image, kwargs.get('kernel_size', 5), kwargs.get('sigmaX', 1.5)),\n",
    "            '中值滤波': lambda: apply_median_filter(gray_image, kwargs.get('kernel_size', 5)),\n",
    "            '双边滤波': lambda: apply_bilateral_filter(gray_image, kwargs.get('d', 9), kwargs.get('sigmaColor', 75), kwargs.get('sigmaSpace', 75))\n",
    "        },\n",
    "        '锐化': {\n",
    "            'Sobel算子': lambda: sobel_sharpen(image),\n",
    "            'Laplacian算子': lambda: laplacian_sharpen(image)\n",
    "        },\n",
    "        '边缘检测':{\n",
    "            'Sobel边缘检测': lambda: sobel_edge_detect(image),\n",
    "            'Laplacian边缘检测': lambda: laplacian_edge_detect(image),\n",
    "            'Canny边缘检测': lambda: canny_edge_detect(image, kwargs.get('low_threshold', 100), kwargs.get('high_threshold', 200))\n",
    "        },\n",
    "\n",
    "        '图像分割': lambda: region_growing(image, seed_point=(400, 100), threshold=8),\n",
    "        '频域滤波': lambda: frequency_filter(image, sub_option),\n",
    "        '形态学处理': lambda: morphology_process(image, sub_option),\n",
    "        '几何形状检测': lambda: geometric_dectect(image, sub_option),\n",
    "        '轮廓提取': lambda: contours(image, sub_option, kwargs.get('threshold'))\n",
    "    }\n",
    "\n",
    "    if method in method_map:\n",
    "        if isinstance(method_map[method], dict):\n",
    "            processed_image = method_map[method].get(sub_option, lambda: None)()\n",
    "        else:\n",
    "            processed_image = method_map[method]()\n",
    "            \n",
    "    if method == '灰度化':\n",
    "        plot_histogram(processed_image)\n",
    "        \n",
    "    return processed_image\n"
   ]
  },
  {
   "cell_type": "code",
   "execution_count": null,
   "metadata": {},
   "outputs": [
    {
     "data": {
      "application/vnd.jupyter.widget-view+json": {
       "model_id": "0daf08e48a7143358216de50c31bf0d8",
       "version_major": 2,
       "version_minor": 0
      },
      "text/plain": [
       "FileUpload(value=(), accept='image/*', description='Upload')"
      ]
     },
     "metadata": {},
     "output_type": "display_data"
    },
    {
     "data": {
      "application/vnd.jupyter.widget-view+json": {
       "model_id": "412e186f8249441c931ce97bed2d0478",
       "version_major": 2,
       "version_minor": 0
      },
      "text/plain": [
       "Dropdown(description='处理方法:', options=('灰度化', '二值化', '滤波', '锐化', '几何变换', '图像分割', '边缘检测', '频域滤波', '形态学处理', '几何形…"
      ]
     },
     "metadata": {},
     "output_type": "display_data"
    },
    {
     "data": {
      "application/vnd.jupyter.widget-view+json": {
       "model_id": "3955bb78120040088e2a22060f44b223",
       "version_major": 2,
       "version_minor": 0
      },
      "text/plain": [
       "Dropdown(description='子选项:', options=('灰度化', '灰度直方图修正', '线性变换', '对数变换', '指数变换'), value='灰度化')"
      ]
     },
     "metadata": {},
     "output_type": "display_data"
    },
    {
     "data": {
      "application/vnd.jupyter.widget-view+json": {
       "model_id": "54a168f67bb848d1bed50e09804454de",
       "version_major": 2,
       "version_minor": 0
      },
      "text/plain": [
       "IntSlider(value=127, description='阈值:', layout=Layout(visibility='hidden'), max=255)"
      ]
     },
     "metadata": {},
     "output_type": "display_data"
    },
    {
     "data": {
      "application/vnd.jupyter.widget-view+json": {
       "model_id": "698b366b655e4f1b8208a7fda300aded",
       "version_major": 2,
       "version_minor": 0
      },
      "text/plain": [
       "HBox(children=(IntSlider(value=5, description='Kernel Size:', layout=Layout(visibility='hidden'), max=15, min=…"
      ]
     },
     "metadata": {},
     "output_type": "display_data"
    },
    {
     "data": {
      "application/vnd.jupyter.widget-view+json": {
       "model_id": "74c49a0bc300417ba3d821bd5e8184de",
       "version_major": 2,
       "version_minor": 0
      },
      "text/plain": [
       "HBox(children=(FloatSlider(value=0.0, description='Translation X:', layout=Layout(visibility='hidden'), min=-1…"
      ]
     },
     "metadata": {},
     "output_type": "display_data"
    },
    {
     "data": {
      "application/vnd.jupyter.widget-view+json": {
       "model_id": "37607379912440f2b1bdc35b2e954616",
       "version_major": 2,
       "version_minor": 0
      },
      "text/plain": [
       "HBox(children=(IntSlider(value=100, description='Low Threshold:', layout=Layout(visibility='hidden'), max=255)…"
      ]
     },
     "metadata": {},
     "output_type": "display_data"
    },
    {
     "data": {
      "application/vnd.jupyter.widget-view+json": {
       "model_id": "1bd3035ff6c64407bfb71efc2ef45c72",
       "version_major": 2,
       "version_minor": 0
      },
      "text/plain": [
       "Button(description='处理', style=ButtonStyle())"
      ]
     },
     "metadata": {},
     "output_type": "display_data"
    },
    {
     "data": {
      "application/vnd.jupyter.widget-view+json": {
       "model_id": "e1f20a2a18e44a83aff5fb8a0f25334e",
       "version_major": 2,
       "version_minor": 0
      },
      "text/plain": [
       "Output()"
      ]
     },
     "metadata": {},
     "output_type": "display_data"
    }
   ],
   "source": [
    "# 文件上传控件\n",
    "file_upload = widgets.FileUpload(\n",
    "    accept='image/*', multiple=False\n",
    ")\n",
    "\n",
    "# 方法选择下拉菜单\n",
    "method_dropdown = widgets.Dropdown(\n",
    "    options=['灰度化', '二值化', '滤波', '锐化', '几何变换', '图像分割', \n",
    "             '边缘检测', '频域滤波', '形态学处理', '几何形状检测', '轮廓提取'],  \n",
    "    value='灰度化', description='处理方法:'\n",
    ")\n",
    "\n",
    "# 子选项选择下拉菜单\n",
    "sub_option_dropdown = widgets.Dropdown(\n",
    "    options=['灰度化', '灰度直方图修正', '线性变换', '对数变换', '指数变换'],\n",
    "    value='灰度化', description='子选项:'\n",
    ")\n",
    "\n",
    "# 处理按钮\n",
    "process_button = widgets.Button(\n",
    "    description='处理',\n",
    ")\n",
    "\n",
    "# 输出区域\n",
    "output = widgets.Output()\n",
    "\n",
    "# 文件上传事件处理\n",
    "def on_file_upload_changed(change):\n",
    "    global image\n",
    "    uploaded_files = change['new']\n",
    "    if isinstance(uploaded_files, tuple):\n",
    "        uploaded_files = {file.name: {'content': file.content} for file in uploaded_files}\n",
    "    \n",
    "    for filename, file_info in uploaded_files.items():\n",
    "        content = file_info['content']\n",
    "        image = cv.imdecode(np.frombuffer(content, np.uint8), -1)\n",
    "        with output:\n",
    "            clear_output(wait=True)\n",
    "            show_image(image, 'Original')\n",
    "            \n",
    "file_upload.observe(on_file_upload_changed, names='value')\n",
    "\n",
    "# 处理按钮点击事件处理\n",
    "def on_process_button_clicked(b):\n",
    "    with output:\n",
    "        clear_output(wait=True)\n",
    "        kwargs = {\n",
    "            'kernel_size': filter_params.children[0].value,\n",
    "            'sigmaX': filter_params.children[1].value,\n",
    "            'd': filter_params.children[2].value,\n",
    "            'sigmaColor': filter_params.children[3].value,\n",
    "            'sigmaSpace': filter_params.children[4].value,\n",
    "            'threshold': threshold_slider.value,\n",
    "            'low_threshold': edge_detection_params.children[0].value,\n",
    "            'high_threshold': edge_detection_params.children[1].value\n",
    "        }\n",
    "        # 不是几何变换时，直接处理图像\n",
    "        if method_dropdown.value != '几何变换':\n",
    "            processed_image = process_image(image, method_dropdown.value, sub_option_dropdown.value, **kwargs)        \n",
    "        \n",
    "        if method_dropdown.value == '几何变换':\n",
    "            if sub_option_dropdown.value == '平移':\n",
    "                tx = geometry_params.children[0].value\n",
    "                ty = geometry_params.children[1].value\n",
    "                processed_image = translate(image, tx, ty)\n",
    "            elif sub_option_dropdown.value == '旋转':\n",
    "                angle = geometry_params.children[2].value\n",
    "                processed_image = rotate(image, angle)\n",
    "            elif sub_option_dropdown.value == '错切':\n",
    "                processed_image = shear(image)\n",
    "            elif sub_option_dropdown.value == '缩放':\n",
    "                scale_factor = geometry_params.children[3].value\n",
    "                processed_image = scale(image, scale_factor)\n",
    "            elif sub_option_dropdown.value == '翻转':\n",
    "                flip_direction = geometry_params.children[4].value\n",
    "                processed_image = flip(image, flip_direction)\n",
    "\n",
    "                \n",
    "        fig, axs = plt.subplots(1, 2, figsize=(12, 6))\n",
    "        axs[0].imshow(cv.cvtColor(image, cv.COLOR_BGR2RGB))\n",
    "        axs[0].set_title('Original Image')\n",
    "        axs[0].axis('off')\n",
    "        \n",
    "        axs[1].imshow(cv.cvtColor(processed_image, cv.COLOR_BGR2RGB) if len(processed_image.shape) == 3 else processed_image, cmap='gray')\n",
    "        axs[1].set_title('Processed Image')\n",
    "        axs[1].axis('off')\n",
    "        \n",
    "        plt.show()\n",
    "process_button.on_click(on_process_button_clicked)\n",
    "\n",
    "# 方法改变事件处理\n",
    "def on_method_change(change):\n",
    "    threshold_slider.layout.visibility = 'hidden'\n",
    "    filter_params.layout.visibility = 'hidden'\n",
    "    geometry_params.layout.visibility = 'hidden'\n",
    "    edge_detection_params.layout.visibility = 'hidden'\n",
    "\n",
    "    method_options = {\n",
    "        '灰度化': ['灰度化', '灰度直方图修正', '线性变换', '对数变换', '指数变换'],\n",
    "        '二值化': ['固定阈值分割', '自适应均值阈值分割', '自适应高斯阈值分割', 'Otsu自动计算阈值分割'],\n",
    "        '滤波': ['均值滤波', '高斯滤波', '中值滤波', '双边滤波'],\n",
    "        '锐化': ['Sobel算子', 'Laplacian算子'],\n",
    "        '几何变换': ['平移', '旋转', '错切', '缩放', '翻转'],\n",
    "        '图像分割': ['区域生长'],\n",
    "        '边缘检测': ['Sobel边缘检测', 'Laplacian边缘检测', 'Canny边缘检测'],\n",
    "        '频域滤波': ['低通滤波', '高通滤波', '带阻(陷波)滤波'],\n",
    "        '形态学处理': ['膨胀', '腐蚀', '开运算', '闭运算', '形态学梯度', '顶帽', '黑帽'],\n",
    "        '几何形状检测': ['轮廓检测'],\n",
    "        '轮廓提取': ['轮廓绘制']\n",
    "    }\n",
    "\n",
    "    sub_option_dropdown.options = method_options.get(change['new'], [])\n",
    "\n",
    "    if change['new'] == '二值化' and sub_option_dropdown.value == '固定阈值分割':\n",
    "        threshold_slider.layout.visibility = 'visible'\n",
    "    elif change['new'] == '滤波':\n",
    "        filter_params.layout.visibility = 'visible'\n",
    "        if sub_option_dropdown.value in ['均值滤波', '高斯滤波']:\n",
    "            filter_params.children[0].layout.visibility = 'visible'  # Kernel Size\n",
    "            filter_params.children[1].layout.visibility = 'visible' if sub_option_dropdown.value == '高斯滤波' else 'hidden'  # Sigma X\n",
    "            filter_params.children[2].layout.visibility = 'hidden'  # Diameter\n",
    "            filter_params.children[3].layout.visibility = 'hidden'  # Sigma Color\n",
    "            filter_params.children[4].layout.visibility = 'hidden'  # Sigma Space\n",
    "        elif sub_option_dropdown.value == '双边滤波':\n",
    "            filter_params.children[0].layout.visibility = 'hidden'  # Kernel Size\n",
    "            filter_params.children[1].layout.visibility = 'hidden'  # Sigma X\n",
    "            filter_params.children[2].layout.visibility = 'visible'  # Diameter\n",
    "            filter_params.children[3].layout.visibility = 'visible'  # Sigma Color\n",
    "            filter_params.children[4].layout.visibility = 'visible'  # Sigma Space\n",
    "        else:\n",
    "            filter_params.children[0].layout.visibility = 'visible'  # Kernel Size\n",
    "            filter_params.children[1].layout.visibility = 'hidden'  # Sigma X\n",
    "            filter_params.children[2].layout.visibility = 'hidden'  # Diameter\n",
    "            filter_params.children[3].layout.visibility = 'hidden'  # Sigma Color\n",
    "            filter_params.children[4].layout.visibility = 'hidden'  # Sigma Space\n",
    "\n",
    "    elif change['new'] == '几何变换':\n",
    "        geometry_params.layout.visibility = 'visible'\n",
    "        # 初始化几何变换参数控件的可见性\n",
    "        for param in geometry_params.children:\n",
    "            param.layout.visibility = 'hidden'\n",
    "        \n",
    "        if sub_option_dropdown.value == '平移':\n",
    "            geometry_params.children[0].layout.visibility = 'visible'  # Translation X\n",
    "            geometry_params.children[1].layout.visibility = 'visible'  # Translation Y\n",
    "        elif sub_option_dropdown.value == '旋转':\n",
    "            geometry_params.children[2].layout.visibility = 'visible'  # Rotation Angle\n",
    "        elif sub_option_dropdown.value == '缩放':\n",
    "            geometry_params.children[3].layout.visibility = 'visible'  # Scale Factor\n",
    "        elif sub_option_dropdown.value == '翻转':\n",
    "            geometry_params.children[4].layout.visibility = 'visible'  # Flip Direction\n",
    "    elif change['new'] == '边缘检测':\n",
    "        edge_detection_params.layout.visibility = 'visible'\n",
    "        edge_detection_params.children[0].layout.visibility = 'visible' if sub_option_dropdown.value == 'Canny边缘检测' else 'hidden'\n",
    "        edge_detection_params.children[1].layout.visibility = 'visible' if sub_option_dropdown.value == 'Canny边缘检测' else 'hidden'\n",
    "\n",
    "    elif change['new'] == '轮廓提取' and sub_option_dropdown.value == '轮廓绘制':\n",
    "        threshold_slider.layout.visibility = 'visible'\n",
    "        \n",
    "method_dropdown.observe(on_method_change, names='value')\n",
    "\n",
    "# 子选项改变事件处理\n",
    "def on_sub_option_change(change):\n",
    "    filter_params.layout.visibility = 'hidden'\n",
    "    geometry_params.layout.visibility = 'hidden'\n",
    "    threshold_slider.layout.visibility = 'hidden'\n",
    "    edge_detection_params.layout.visibility = 'hidden'\n",
    "\n",
    "    if method_dropdown.value == '二值化' and change['new'] == '固定阈值分割':\n",
    "        threshold_slider.layout.visibility = 'visible'\n",
    "    elif method_dropdown.value == '滤波':\n",
    "        filter_params.layout.visibility = 'visible'\n",
    "        if change['new'] in ['均值滤波', '高斯滤波']:\n",
    "            filter_params.children[0].layout.visibility = 'visible'  # Kernel Size\n",
    "            filter_params.children[1].layout.visibility = 'visible' if change['new'] == '高斯滤波' else 'hidden'  # Sigma X\n",
    "            filter_params.children[2].layout.visibility = 'hidden'  # Diameter\n",
    "            filter_params.children[3].layout.visibility = 'hidden'  # Sigma Color\n",
    "            filter_params.children[4].layout.visibility = 'hidden'  # Sigma Space\n",
    "        elif change['new'] == '双边滤波':\n",
    "            filter_params.children[0].layout.visibility = 'hidden'  # Kernel Size\n",
    "            filter_params.children[1].layout.visibility = 'hidden'  # Sigma X\n",
    "            filter_params.children[2].layout.visibility = 'visible'  # Diameter\n",
    "            filter_params.children[3].layout.visibility = 'visible'  # Sigma Color\n",
    "            filter_params.children[4].layout.visibility = 'visible'  # Sigma Space\n",
    "        else:\n",
    "            filter_params.children[0].layout.visibility = 'visible'  # Kernel Size\n",
    "            filter_params.children[1].layout.visibility = 'hidden'  # Sigma X\n",
    "            filter_params.children[2].layout.visibility = 'hidden'  # Diameter\n",
    "            filter_params.children[3].layout.visibility = 'hidden'  # Sigma Color\n",
    "            filter_params.children[4].layout.visibility = 'hidden'  # Sigma Space\n",
    "\n",
    "\n",
    "    elif method_dropdown.value == '几何变换':\n",
    "        geometry_params.layout.visibility = 'visible'\n",
    "        for param in geometry_params.children:\n",
    "            param.layout.visibility = 'hidden'\n",
    "        if change['new'] == '平移':\n",
    "            geometry_params.children[0].layout.visibility = 'visible'  # Translation X\n",
    "            geometry_params.children[1].layout.visibility = 'visible'  # Translation Y\n",
    "        elif change['new'] == '旋转':\n",
    "            geometry_params.children[2].layout.visibility = 'visible'  # Rotation Angle\n",
    "        elif change['new'] == '缩放':\n",
    "            geometry_params.children[3].layout.visibility = 'visible'  # Scale Factor\n",
    "        elif change['new'] == '翻转':\n",
    "            geometry_params.children[4].layout.visibility = 'visible'  # Flip Direction\n",
    "\n",
    "\n",
    "    elif method_dropdown.value == '边缘检测':\n",
    "        edge_detection_params.layout.visibility = 'visible'\n",
    "        edge_detection_params.children[0].layout.visibility = 'visible' if change['new'] == 'Canny边缘检测' else 'hidden'\n",
    "        edge_detection_params.children[1].layout.visibility = 'visible' if change['new'] == 'Canny边缘检测' else 'hidden'\n",
    "        \n",
    "    elif method_dropdown.value == '轮廓提取' and change['new'] == '轮廓绘制':\n",
    "        threshold_slider.layout.visibility = 'visible'\n",
    "\n",
    "\n",
    "sub_option_dropdown.observe(on_sub_option_change, names='value')\n",
    "\n",
    "# 显示控件\n",
    "display(file_upload, method_dropdown, sub_option_dropdown, threshold_slider, filter_params, geometry_params, edge_detection_params, process_button, output)"
   ]
  },
  {
   "cell_type": "code",
   "execution_count": null,
   "metadata": {},
   "outputs": [],
   "source": []
  },
  {
   "cell_type": "code",
   "execution_count": null,
   "metadata": {},
   "outputs": [],
   "source": []
  }
 ],
 "metadata": {
  "kernelspec": {
   "display_name": ".venv",
   "language": "python",
   "name": "python3"
  },
  "language_info": {
   "codemirror_mode": {
    "name": "ipython",
    "version": 3
   },
   "file_extension": ".py",
   "mimetype": "text/x-python",
   "name": "python",
   "nbconvert_exporter": "python",
   "pygments_lexer": "ipython3",
   "version": "3.12.6"
  }
 },
 "nbformat": 4,
 "nbformat_minor": 2
}
