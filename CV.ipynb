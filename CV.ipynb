{
 "cells": [
  {
   "cell_type": "code",
   "execution_count": 11,
   "metadata": {},
   "outputs": [],
   "source": [
    "# 导入必要的库\n",
    "import ipywidgets as widgets\n",
    "from IPython.display import display, clear_output\n",
    "import cv2 as cv\n",
    "import numpy as np\n",
    "import matplotlib.pyplot as plt\n",
    "from matplotlib.widgets import Slider"
   ]
  },
  {
   "cell_type": "code",
   "execution_count": null,
   "metadata": {},
   "outputs": [],
   "source": [
    "# 定义一个函数来显示图像\n",
    "def show_image(image, title='Image'):\n",
    "    plt.imshow(cv.cvtColor(image, cv.COLOR_BGR2RGB))\n",
    "    plt.title(title)\n",
    "    plt.axis('off')\n",
    "    plt.show()\n",
    "\n",
    "# 定义一个函数来绘制直方图\n",
    "def plot_histogram(image, bins=256):\n",
    "    plt.hist(image.ravel(), bins=bins, range=[0, 256], color='r', alpha=0.7)\n",
    "    plt.xlabel('Pixel Value')\n",
    "    plt.ylabel('Frequency')\n",
    "    plt.title('Histogram')\n",
    "    plt.show()\n",
    "\n",
    "# 定义一个函数来处理图像\n",
    "def process_image(image, method, sub_option, threshold=None):\n",
    "    gray_image = cv.cvtColor(image, cv.COLOR_BGR2GRAY)\n",
    "    processed_image = None\n",
    "    \n",
    "    if method == '灰度化':\n",
    "        if sub_option == '绘制灰度直方图':\n",
    "            plot_histogram(gray_image)\n",
    "            processed_image = gray_image  # 返回灰度图像\n",
    "        elif sub_option == '灰度直方图修正':\n",
    "            processed_image = cv.equalizeHist(gray_image)\n",
    "        elif sub_option == '线性变换':\n",
    "            alpha = 1.5  # 对比度增益\n",
    "            beta = 15    # 亮度增益\n",
    "            processed_image = cv.convertScaleAbs(gray_image, alpha=alpha, beta=beta)\n",
    "        elif sub_option == '对数变换':\n",
    "            c = 1\n",
    "            log_transformed_image = c * np.log(1 + gray_image).astype(np.uint8)\n",
    "            processed_image = (log_transformed_image / np.max(log_transformed_image) * 255).astype(np.uint8)\n",
    "        elif sub_option == '指数变换':\n",
    "            c = 1\n",
    "            gamma = 0.5\n",
    "            exp_transformed_image = c * np.power(gray_image, gamma).astype(np.uint8)\n",
    "            processed_image = (exp_transformed_image / np.max(exp_transformed_image) * 255).astype(np.uint8)\n",
    "    elif method == '二值化':\n",
    "        if sub_option == '固定阈值分割':\n",
    "            _, processed_image = cv.threshold(gray_image, threshold, 255, cv.THRESH_BINARY)\n",
    "        elif sub_option == '自适应均值阈值分割':\n",
    "            processed_image = cv.adaptiveThreshold(gray_image, 255, cv.ADAPTIVE_THRESH_MEAN_C, cv.THRESH_BINARY, 11, 5)\n",
    "        elif sub_option == '自适应高斯阈值分割':\n",
    "            processed_image = cv.adaptiveThreshold(gray_image, 255, cv.ADAPTIVE_THRESH_GAUSSIAN_C, cv.THRESH_BINARY, 11, 5)\n",
    "        elif sub_option == 'Otsu自动计算阈值分割':\n",
    "            _, processed_image = cv.threshold(gray_image, 0, 255, cv.THRESH_BINARY + cv.THRESH_OTSU)\n",
    "    \n",
    "    return processed_image"
   ]
  },
  {
   "cell_type": "code",
   "execution_count": 13,
   "metadata": {},
   "outputs": [
    {
     "data": {
      "application/vnd.jupyter.widget-view+json": {
       "model_id": "0235435fd5674a66bdbebff09bbfce26",
       "version_major": 2,
       "version_minor": 0
      },
      "text/plain": [
       "FileUpload(value=(), accept='image/*', description='Upload')"
      ]
     },
     "metadata": {},
     "output_type": "display_data"
    },
    {
     "data": {
      "application/vnd.jupyter.widget-view+json": {
       "model_id": "1b01b3da6bf44bd698aab59ec2357ba7",
       "version_major": 2,
       "version_minor": 0
      },
      "text/plain": [
       "Dropdown(description='处理方法:', options=('灰度化', '二值化'), value='灰度化')"
      ]
     },
     "metadata": {},
     "output_type": "display_data"
    },
    {
     "data": {
      "application/vnd.jupyter.widget-view+json": {
       "model_id": "d8f27d82f8224a0aa22222d062a63941",
       "version_major": 2,
       "version_minor": 0
      },
      "text/plain": [
       "Dropdown(description='子选项:', options=('绘制灰度直方图', '灰度直方图修正', '线性变换', '对数变换', '指数变换'), value='绘制灰度直方图')"
      ]
     },
     "metadata": {},
     "output_type": "display_data"
    },
    {
     "data": {
      "application/vnd.jupyter.widget-view+json": {
       "model_id": "5badfcbd918346fe946c3863e18ead15",
       "version_major": 2,
       "version_minor": 0
      },
      "text/plain": [
       "IntSlider(value=127, description='阈值:', layout=Layout(visibility='hidden'), max=255)"
      ]
     },
     "metadata": {},
     "output_type": "display_data"
    },
    {
     "data": {
      "application/vnd.jupyter.widget-view+json": {
       "model_id": "5c93ae0b4599484bafae2e89adaed8bf",
       "version_major": 2,
       "version_minor": 0
      },
      "text/plain": [
       "Button(description='处理', style=ButtonStyle())"
      ]
     },
     "metadata": {},
     "output_type": "display_data"
    },
    {
     "data": {
      "application/vnd.jupyter.widget-view+json": {
       "model_id": "20f327751647446e8c79f42fc0f74b23",
       "version_major": 2,
       "version_minor": 0
      },
      "text/plain": [
       "Output()"
      ]
     },
     "metadata": {},
     "output_type": "display_data"
    }
   ],
   "source": [
    "# 创建文件上传控件\n",
    "file_upload = widgets.FileUpload(\n",
    "    accept='image/*',  # 接受所有图片格式\n",
    "    multiple=False  # 不允许多文件上传\n",
    ")\n",
    "\n",
    "# 创建方法选择下拉菜单\n",
    "method_dropdown = widgets.Dropdown(\n",
    "    options=['灰度化', '二值化'],\n",
    "    value='灰度化',\n",
    "    description='处理方法:',\n",
    ")\n",
    "\n",
    "# 创建子选项选择下拉菜单\n",
    "sub_option_dropdown = widgets.Dropdown(\n",
    "    options=['绘制灰度直方图', '灰度直方图修正', '线性变换', '对数变换', '指数变换'],\n",
    "    value='绘制灰度直方图',\n",
    "    description='子选项:',\n",
    ")\n",
    "\n",
    "# 创建阈值滑动条，并默认隐藏\n",
    "threshold_slider = widgets.IntSlider(\n",
    "    min=0,\n",
    "    max=255,\n",
    "    step=1,\n",
    "    value=127,\n",
    "    description='阈值:',\n",
    "    layout={'visibility': 'hidden'}  # 默认隐藏\n",
    ")\n",
    "\n",
    "# 创建处理按钮\n",
    "process_button = widgets.Button(\n",
    "    description='处理',\n",
    ")\n",
    "\n",
    "# 创建输出区域\n",
    "output = widgets.Output()\n",
    "\n",
    "# 当文件上传后，读取图片并显示原始图片\n",
    "def on_file_upload_changed(change):\n",
    "    global image  # 使用全局变量存储图片数据\n",
    "    uploaded_files = change['new']\n",
    "    if isinstance(uploaded_files, tuple):  # 如果上传了多个文件，则转换为字典形式\n",
    "        uploaded_files = {file.name: {'content': file.content} for file in uploaded_files}\n",
    "    \n",
    "    for filename, file_info in uploaded_files.items():\n",
    "        content = file_info['content']\n",
    "        image = cv.imdecode(np.frombuffer(content, np.uint8), -1)\n",
    "        with output:\n",
    "            clear_output(wait=True)\n",
    "            show_image(image, '原始图像')\n",
    "\n",
    "file_upload.observe(on_file_upload_changed, names='value')\n",
    "\n",
    "# 当处理按钮被点击时，处理图片\n",
    "def on_process_button_clicked(b):\n",
    "    with output:\n",
    "        clear_output(wait=True)\n",
    "        if method_dropdown.value == '二值化' and sub_option_dropdown.value == '固定阈值分割':\n",
    "            processed_image = process_image(image, method_dropdown.value, sub_option_dropdown.value, threshold_slider.value)\n",
    "        else:\n",
    "            processed_image = process_image(image, method_dropdown.value, sub_option_dropdown.value)\n",
    "        \n",
    "        # 显示原始图像和处理后的图像\n",
    "        fig, axs = plt.subplots(1, 2, figsize=(12, 6))\n",
    "        axs[0].imshow(cv.cvtColor(image, cv.COLOR_BGR2RGB))\n",
    "        axs[0].set_title('原始图像')\n",
    "        axs[0].axis('off')\n",
    "        \n",
    "        axs[1].imshow(cv.cvtColor(processed_image, cv.COLOR_BGR2RGB) if len(processed_image.shape) == 3 else processed_image, cmap='gray')\n",
    "        axs[1].set_title('处理后的图像')\n",
    "        axs[1].axis('off')\n",
    "        \n",
    "        plt.show()\n",
    "\n",
    "\n",
    "process_button.on_click(on_process_button_clicked)\n",
    "\n",
    "# 更新子选项下拉列表\n",
    "def on_method_change(change):\n",
    "    if change['new'] == '灰度化':\n",
    "        sub_option_dropdown.options = ['绘制灰度直方图', '灰度直方图修正', '线性变换', '对数变换', '指数变换']\n",
    "        threshold_slider.layout.visibility = 'hidden'\n",
    "    elif change['new'] == '二值化':\n",
    "        sub_option_dropdown.options = ['固定阈值分割', '自适应均值阈值分割', '自适应高斯阈值分割', 'Otsu自动计算阈值分割']\n",
    "        if sub_option_dropdown.value == '固定阈值分割':\n",
    "            threshold_slider.layout.visibility = 'visible'\n",
    "        else:\n",
    "            threshold_slider.layout.visibility = 'hidden'\n",
    "\n",
    "method_dropdown.observe(on_method_change, names='value')\n",
    "\n",
    "# 当子选项改变时，检查是否需要显示阈值滑动条\n",
    "def on_sub_option_change(change):\n",
    "    if method_dropdown.value == '二值化' and change['new'] == '固定阈值分割':\n",
    "        threshold_slider.layout.visibility = 'visible'\n",
    "    else:\n",
    "        threshold_slider.layout.visibility = 'hidden'\n",
    "\n",
    "sub_option_dropdown.observe(on_sub_option_change, names='value')\n",
    "\n",
    "# 显示控件\n",
    "display(file_upload, method_dropdown, sub_option_dropdown, threshold_slider, process_button, output)"
   ]
  },
  {
   "cell_type": "code",
   "execution_count": null,
   "metadata": {},
   "outputs": [],
   "source": []
  }
 ],
 "metadata": {
  "kernelspec": {
   "display_name": ".venv",
   "language": "python",
   "name": "python3"
  },
  "language_info": {
   "codemirror_mode": {
    "name": "ipython",
    "version": 3
   },
   "file_extension": ".py",
   "mimetype": "text/x-python",
   "name": "python",
   "nbconvert_exporter": "python",
   "pygments_lexer": "ipython3",
   "version": "3.12.6"
  }
 },
 "nbformat": 4,
 "nbformat_minor": 2
}
